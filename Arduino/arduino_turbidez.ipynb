{
 "cells": [
  {
   "cell_type": "code",
   "execution_count": null,
   "metadata": {},
   "outputs": [],
   "source": [
    "import serial\n",
    "import datetime\n",
    "import mysql.connector"
   ]
  },
  {
   "cell_type": "code",
   "execution_count": null,
   "metadata": {},
   "outputs": [],
   "source": [
    "# Configuração da conexão\n",
    "config = {\n",
    "    'user': 'root',\n",
    "    'password': '',\n",
    "    'host': '127.0.0.1',\n",
    "    'database': 'sin499-turbidimetro',\n",
    "    'raise_on_warnings': True\n",
    "}"
   ]
  },
  {
   "cell_type": "code",
   "execution_count": null,
   "metadata": {},
   "outputs": [],
   "source": [
    "# Cria a conexão\n",
    "cnx = mysql.connector.connect(**config)\n",
    "\n",
    "# Cria um cursor para executar consultas\n",
    "cursor = cnx.cursor()"
   ]
  },
  {
   "cell_type": "code",
   "execution_count": null,
   "metadata": {},
   "outputs": [],
   "source": [
    "led = 13\n",
    "ldr = 'A0'\n",
    "valorldr = 0\n",
    "\n",
    "# Inicialização da comunicação serial\n",
    "serial_port = serial.Serial('COM3', 9600)"
   ]
  },
  {
   "cell_type": "code",
   "execution_count": null,
   "metadata": {},
   "outputs": [],
   "source": [
    "# Função para ler o valor do sensor LDR\n",
    "def read_ldr_value():\n",
    "    serial_port.write(ldr.encode())\n",
    "    response = serial_port.readline().decode().strip()\n",
    "    if response.startswith('Valor LDR: '):\n",
    "        value = int(response.replace('Valor LDR: ', ''))\n",
    "        return value\n",
    "    else:\n",
    "        return None"
   ]
  },
  {
   "cell_type": "code",
   "execution_count": null,
   "metadata": {},
   "outputs": [],
   "source": [
    "# Configuração inicial\n",
    "serial_port.write(('pinMode(' + str(led) + ', OUTPUT)').encode())\n",
    "serial_port.write(('pinMode(' + ldr + ', INPUT)').encode())\n",
    "\n",
    "while True:\n",
    "    valorldr = read_ldr_value()\n",
    "    if valorldr is not None:\n",
    "        current_time = datetime.datetime.now().strftime(\"%Y-%m-%d %H:%M:%S\")\n",
    "        # Exemplo de inserção\n",
    "        query = \"INSERT INTO turbidimetro (sensoriamento_ldr, date_time) VALUES (%s, %s)\"\n",
    "        values = (valorldr, current_time)\n",
    "        cursor.execute(query, values)\n",
    "        # Faz o commit da transação\n",
    "        cnx.commit()\n",
    "        print(f\"{current_time} - Valor LDR: {valorldr}\")\n",
    "    \n",
    "    # Aciona o LED\n",
    "    serial_port.write(('digitalWrite(' + str(led) + ', HIGH)').encode())"
   ]
  },
  {
   "cell_type": "code",
   "execution_count": null,
   "metadata": {},
   "outputs": [],
   "source": [
    "# Fecha o cursor e a conexão\n",
    "cursor.close()\n",
    "cnx.close()"
   ]
  }
 ],
 "metadata": {
  "language_info": {
   "name": "python"
  },
  "orig_nbformat": 4
 },
 "nbformat": 4,
 "nbformat_minor": 2
}
